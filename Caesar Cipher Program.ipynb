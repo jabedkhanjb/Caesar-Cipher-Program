{
 "cells": [
  {
   "cell_type": "markdown",
   "id": "9e7289ad",
   "metadata": {},
   "source": [
    "# Implementing Caesar Cipher Program"
   ]
  },
  {
   "cell_type": "code",
   "execution_count": 11,
   "id": "b663789d",
   "metadata": {},
   "outputs": [
    {
     "name": "stdout",
     "output_type": "stream",
     "text": [
      "Enter the text to encrypt or decrypt: Ymtrgl Uexmy Wtmz Vmnqp\n",
      "Enter the shift value: 14\n",
      "Encrypt (E) or Decrypt (D)? e\n",
      "Encrypted: Mahfuz Islam Khan Jabed\n"
     ]
    }
   ],
   "source": [
    "def caesar_cipher(text, shift, encrypt=True):\n",
    "    result = \"\"\n",
    "    for char in text:\n",
    "        if char.isalpha():  # Ignore non-alphabetic characters\n",
    "            ascii_offset = ord('A') if char.isupper() else ord('a')\n",
    "            if encrypt:\n",
    "                result_char = chr((ord(char) - ascii_offset + shift) % 26 + ascii_offset)\n",
    "            else:\n",
    "                result_char = chr((ord(char) - ascii_offset - shift) % 26 + ascii_offset)\n",
    "            result += result_char\n",
    "        else:\n",
    "            result += char\n",
    "    return result\n",
    "\n",
    "def main():\n",
    "    user_input = input(\"Enter the text to encrypt or decrypt: \")\n",
    "    shift = int(input(\"Enter the shift value: \"))\n",
    "    choice = input(\"Encrypt (E) or Decrypt (D)? \").upper()\n",
    "\n",
    "    if choice == 'E':\n",
    "        result = caesar_cipher(user_input, shift, encrypt=True)\n",
    "        print(f\"Encrypted: {result}\")\n",
    "    elif choice == 'D':\n",
    "        result = caesar_cipher(user_input, shift, encrypt=False)\n",
    "        print(f\"Decrypted: {result}\")\n",
    "    else:\n",
    "        print(\"Invalid choice. Please enter 'E' for encryption or 'D' for decryption.\")\n",
    "\n",
    "if __name__ == \"__main__\":\n",
    "    main()\n"
   ]
  },
  {
   "cell_type": "code",
   "execution_count": null,
   "id": "2c12c1d5",
   "metadata": {},
   "outputs": [],
   "source": []
  },
  {
   "cell_type": "markdown",
   "id": "b5f12663",
   "metadata": {},
   "source": [
    "# Decryption with Brute Force Search with All Shift Keys"
   ]
  },
  {
   "cell_type": "code",
   "execution_count": 1,
   "id": "b6948c60",
   "metadata": {},
   "outputs": [
    {
     "name": "stdout",
     "output_type": "stream",
     "text": [
      "Enter the encrypted text: Ymtrgl Uexmy Wtmz Vmnqp\n"
     ]
    },
    {
     "ename": "NameError",
     "evalue": "name 'caesar_cipher' is not defined",
     "output_type": "error",
     "traceback": [
      "\u001b[0;31m---------------------------------------------------------------------------\u001b[0m",
      "\u001b[0;31mNameError\u001b[0m                                 Traceback (most recent call last)",
      "Cell \u001b[0;32mIn[1], line 13\u001b[0m\n\u001b[1;32m     10\u001b[0m     caesar_decrypt_all(encrypted_text)\n\u001b[1;32m     12\u001b[0m \u001b[38;5;28;01mif\u001b[39;00m \u001b[38;5;18m__name__\u001b[39m \u001b[38;5;241m==\u001b[39m \u001b[38;5;124m\"\u001b[39m\u001b[38;5;124m__main__\u001b[39m\u001b[38;5;124m\"\u001b[39m:\n\u001b[0;32m---> 13\u001b[0m     \u001b[43mmain\u001b[49m\u001b[43m(\u001b[49m\u001b[43m)\u001b[49m\n",
      "Cell \u001b[0;32mIn[1], line 10\u001b[0m, in \u001b[0;36mmain\u001b[0;34m()\u001b[0m\n\u001b[1;32m      7\u001b[0m encrypted_text \u001b[38;5;241m=\u001b[39m \u001b[38;5;28minput\u001b[39m(\u001b[38;5;124m\"\u001b[39m\u001b[38;5;124mEnter the encrypted text: \u001b[39m\u001b[38;5;124m\"\u001b[39m)\n\u001b[1;32m      9\u001b[0m \u001b[38;5;66;03m# Attempt to decrypt with all possible shift values\u001b[39;00m\n\u001b[0;32m---> 10\u001b[0m \u001b[43mcaesar_decrypt_all\u001b[49m\u001b[43m(\u001b[49m\u001b[43mencrypted_text\u001b[49m\u001b[43m)\u001b[49m\n",
      "Cell \u001b[0;32mIn[1], line 3\u001b[0m, in \u001b[0;36mcaesar_decrypt_all\u001b[0;34m(text)\u001b[0m\n\u001b[1;32m      1\u001b[0m \u001b[38;5;28;01mdef\u001b[39;00m \u001b[38;5;21mcaesar_decrypt_all\u001b[39m(text):\n\u001b[1;32m      2\u001b[0m     \u001b[38;5;28;01mfor\u001b[39;00m shift \u001b[38;5;129;01min\u001b[39;00m \u001b[38;5;28mrange\u001b[39m(\u001b[38;5;241m26\u001b[39m):\n\u001b[0;32m----> 3\u001b[0m         decrypted_text \u001b[38;5;241m=\u001b[39m \u001b[43mcaesar_cipher\u001b[49m(text, shift, encrypt\u001b[38;5;241m=\u001b[39m\u001b[38;5;28;01mFalse\u001b[39;00m)\n\u001b[1;32m      4\u001b[0m         \u001b[38;5;28mprint\u001b[39m(\u001b[38;5;124mf\u001b[39m\u001b[38;5;124m\"\u001b[39m\u001b[38;5;124mShift \u001b[39m\u001b[38;5;132;01m{\u001b[39;00mshift\u001b[38;5;132;01m:\u001b[39;00m\u001b[38;5;124m2\u001b[39m\u001b[38;5;132;01m}\u001b[39;00m\u001b[38;5;124m: \u001b[39m\u001b[38;5;132;01m{\u001b[39;00mdecrypted_text\u001b[38;5;132;01m}\u001b[39;00m\u001b[38;5;124m\"\u001b[39m)\n",
      "\u001b[0;31mNameError\u001b[0m: name 'caesar_cipher' is not defined"
     ]
    }
   ],
   "source": [
    "def caesar_decrypt_all(text):\n",
    "    for shift in range(26):\n",
    "        decrypted_text = caesar_cipher(text, shift, encrypt=False)\n",
    "        print(f\"Shift {shift:2}: {decrypted_text}\")\n",
    "\n",
    "def main():\n",
    "    encrypted_text = input(\"Enter the encrypted text: \")\n",
    "    \n",
    "    # Attempt to decrypt with all possible shift values\n",
    "    caesar_decrypt_all(encrypted_text)\n",
    "\n",
    "if __name__ == \"__main__\":\n",
    "    main()\n"
   ]
  },
  {
   "cell_type": "code",
   "execution_count": null,
   "id": "cd93a075",
   "metadata": {},
   "outputs": [],
   "source": []
  }
 ],
 "metadata": {
  "kernelspec": {
   "display_name": "Python 3 (ipykernel)",
   "language": "python",
   "name": "python3"
  },
  "language_info": {
   "codemirror_mode": {
    "name": "ipython",
    "version": 3
   },
   "file_extension": ".py",
   "mimetype": "text/x-python",
   "name": "python",
   "nbconvert_exporter": "python",
   "pygments_lexer": "ipython3",
   "version": "3.10.9"
  }
 },
 "nbformat": 4,
 "nbformat_minor": 5
}
