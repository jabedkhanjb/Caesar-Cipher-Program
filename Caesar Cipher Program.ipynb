{
 "cells": [
  {
   "cell_type": "code",
   "execution_count": 2,
   "id": "274e89f5",
   "metadata": {},
   "outputs": [
    {
     "name": "stdout",
     "output_type": "stream",
     "text": [
      "Enter the text to encrypt or decrypt: XYZABCDEFGHIJKLMNOPQRSTUVW\n",
      "Enter the shift value: 23\n",
      "Encrypt (E) or Decrypt (D)? d\n",
      "Decrypted: ABCDEFGHIJKLMNOPQRSTUVWXYZ\n"
     ]
    }
   ],
   "source": [
    "def caesar_cipher(text, shift, encrypt=True):\n",
    "    result = \"\"\n",
    "    for char in text:\n",
    "        if char.isalpha():  # Ignore non-alphabetic characters\n",
    "            ascii_offset = ord('A') if char.isupper() else ord('a')\n",
    "            if encrypt:\n",
    "                result_char = chr((ord(char) - ascii_offset + shift) % 26 + ascii_offset)\n",
    "            else:\n",
    "                result_char = chr((ord(char) - ascii_offset - shift) % 26 + ascii_offset)\n",
    "            result += result_char\n",
    "        else:\n",
    "            result += char\n",
    "    return result\n",
    "\n",
    "def main():\n",
    "    user_input = input(\"Enter the text to encrypt or decrypt: \")\n",
    "    shift = int(input(\"Enter the shift value: \"))\n",
    "    choice = input(\"Encrypt (E) or Decrypt (D)? \").upper()\n",
    "\n",
    "    if choice == 'E':\n",
    "        result = caesar_cipher(user_input, shift, encrypt=True)\n",
    "        print(f\"Encrypted: {result}\")\n",
    "    elif choice == 'D':\n",
    "        result = caesar_cipher(user_input, shift, encrypt=False)\n",
    "        print(f\"Decrypted: {result}\")\n",
    "    else:\n",
    "        print(\"Invalid choice. Please enter 'E' for encryption or 'D' for decryption.\")\n",
    "\n",
    "if __name__ == \"__main__\":\n",
    "    main()\n"
   ]
  },
  {
   "cell_type": "code",
   "execution_count": null,
   "id": "b1443d7c",
   "metadata": {},
   "outputs": [],
   "source": []
  }
 ],
 "metadata": {
  "kernelspec": {
   "display_name": "Python 3 (ipykernel)",
   "language": "python",
   "name": "python3"
  },
  "language_info": {
   "codemirror_mode": {
    "name": "ipython",
    "version": 3
   },
   "file_extension": ".py",
   "mimetype": "text/x-python",
   "name": "python",
   "nbconvert_exporter": "python",
   "pygments_lexer": "ipython3",
   "version": "3.10.9"
  }
 },
 "nbformat": 4,
 "nbformat_minor": 5
}
